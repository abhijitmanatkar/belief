{
 "cells": [
  {
   "cell_type": "code",
   "execution_count": 1,
   "metadata": {},
   "outputs": [],
   "source": [
    "%load_ext autoreload\n",
    "%autoreload 2"
   ]
  },
  {
   "cell_type": "code",
   "execution_count": 19,
   "metadata": {},
   "outputs": [],
   "source": [
    "import torch\n",
    "from transformers import T5Tokenizer, T5ForConditionalGeneration\n",
    "import json\n",
    "import pickle\n",
    "import random"
   ]
  },
  {
   "cell_type": "code",
   "execution_count": 48,
   "metadata": {},
   "outputs": [],
   "source": [
    "model_name = \"allenai/unifiedqa-v2-t5-base-1251000\"\n",
    "tokenizer = T5Tokenizer.from_pretrained(model_name)\n",
    "model = T5ForConditionalGeneration.from_pretrained(model_name)\n",
    "with open(\"./data/constraints_v2.json\", 'r') as f:\n",
    "    constraint_data = json.load(f)"
   ]
  },
  {
   "cell_type": "code",
   "execution_count": 12,
   "metadata": {},
   "outputs": [],
   "source": [
    "from belief.evaluation import calibrate, build_bb, load_facts\n",
    "from belief.lmbb import LMBB, FeedbackType"
   ]
  },
  {
   "cell_type": "code",
   "execution_count": 4,
   "metadata": {},
   "outputs": [],
   "source": [
    "fact_batches = load_facts(\"./data/calibration_facts.json\", num_batches=10)"
   ]
  },
  {
   "cell_type": "code",
   "execution_count": 76,
   "metadata": {},
   "outputs": [],
   "source": [
    "lmbb = LMBB(model=model, tokenizer=tokenizer, raw_constraints=constraint_data['links'], forward_weight=10, backward_weight=0.7)\n",
    "# lmbb.DEBUG = True"
   ]
  },
  {
   "cell_type": "code",
   "execution_count": 64,
   "metadata": {},
   "outputs": [],
   "source": [
    "i = 0"
   ]
  },
  {
   "cell_type": "code",
   "execution_count": null,
   "metadata": {},
   "outputs": [],
   "source": [
    "lmbb.add_belief_set(fact_batches[i])\n",
    "print(i, lmbb.calculate_f1(sum(fact_batches[:i+1], [])), lmbb.calculate_consistency())\n",
    "i += 1"
   ]
  },
  {
   "cell_type": "code",
   "execution_count": 26,
   "metadata": {},
   "outputs": [],
   "source": [
    "i = 4"
   ]
  },
  {
   "cell_type": "code",
   "execution_count": 66,
   "metadata": {},
   "outputs": [],
   "source": [
    "weights = [0.1, 0.3, 0.7, 1, 3, 7, 10]"
   ]
  },
  {
   "cell_type": "code",
   "execution_count": 11,
   "metadata": {},
   "outputs": [
    {
     "name": "stdout",
     "output_type": "stream",
     "text": [
      "Batch 1 : F1 = 0.6399197547963046, consistency = 1.0\n",
      "Batch 2 : F1 = 0.6595744634460446, consistency = 1.0\n",
      "Batch 3 : F1 = 0.6783369755720908, consistency = 1.0\n",
      "Batch 4 : F1 = 0.7023945219955562, consistency = 1.0\n",
      "Batch 5 : F1 = 0.7300236358041547, consistency = 1.0\n",
      "Batch 6 : F1 = 0.746378285249434, consistency = 1.0\n",
      "Batch 7 : F1 = 0.7722091501193691, consistency = 1.0\n",
      "Batch 8 : F1 = 0.7957267674519273, consistency = 1.0\n",
      "Batch 9 : F1 = 0.8166888543126881, consistency = 1.0\n",
      "Batch 10 : F1 = 0.8391877008198719, consistency = 1.0\n"
     ]
    }
   ],
   "source": [
    "_ = build_bb(\n",
    "    model_name=\"allenai/unifiedqa-v2-t5-base-1251000\",\n",
    "    facts_file=\"./data/silver_facts.json\", \n",
    "    constraints_file=\"./data/constraints_v2.json\",\n",
    "    num_batches=10,\n",
    "    constraint_solving=True,\n",
    "    with_feedback=True,\n",
    "    forward_weight=6, \n",
    "    backward_weight=0.6\n",
    ")\n",
    "\n",
    "del _"
   ]
  },
  {
   "cell_type": "code",
   "execution_count": 17,
   "metadata": {},
   "outputs": [],
   "source": [
    "f1s = [\n",
    "    0.6399197547963046, \n",
    "    0.6595744634460446, \n",
    "    0.6783369755720908, \n",
    "    0.7023945219955562,\n",
    "    0.7300236358041547, \n",
    "    0.746378285249434, \n",
    "    0.7722091501193691,\n",
    "    0.7957267674519273,\n",
    "    0.8166888543126881,\n",
    "    0.8391877008198719\n",
    "]\n",
    "\n",
    "consistencies = [1.0 for _ in range(10)]\n",
    "\n",
    "d = dict(\n",
    "    model_name=\"allenai/unifiedqa-v2-t5-base-1251000\",\n",
    "    facts_file=\"./data/silver_facts.json\",\n",
    "    constraints_file=\"./data/constraints_v2.json\",\n",
    "    num_batches=10,\n",
    "    constraint_solving=True,\n",
    "    with_feedback=True,\n",
    "    feedback_type=FeedbackType.RELEVANT,\n",
    "    forward_weight=6,\n",
    "    backward_weight=0.6,\n",
    "    f1s=f1s,\n",
    "    consistencies=consistencies,\n",
    "    final_f1=f1s[-1],\n",
    "    final_consistency=consistencies[-1]\n",
    ")"
   ]
  },
  {
   "cell_type": "code",
   "execution_count": 28,
   "metadata": {},
   "outputs": [],
   "source": [
    "with open('./results/results.pkl', 'rb') as f:\n",
    "    results = pickle.load(f)\n",
    "results.append(d)\n",
    "with open('./results/results.pkl', 'wb') as f:\n",
    "    pickle.dump(results, f)"
   ]
  },
  {
   "cell_type": "code",
   "execution_count": 29,
   "metadata": {},
   "outputs": [],
   "source": [
    "with open('./results/results.pkl', 'rb') as f:\n",
    "    results = pickle.load(f)"
   ]
  },
  {
   "cell_type": "code",
   "execution_count": 31,
   "metadata": {},
   "outputs": [
    {
     "name": "stdout",
     "output_type": "stream",
     "text": [
      "Batch 1 : F1 = 0.596273287573404, consistency = 0.8038461538461539\n",
      "Batch 2 : F1 = 0.5994694916729912, consistency = 0.8007554296506137\n",
      "Batch 3 : F1 = 0.6041542983201754, consistency = 0.8075664621676891\n",
      "Batch 4 : F1 = 0.6090443262191578, consistency = 0.8078233161191077\n",
      "Batch 5 : F1 = 0.6082142813601136, consistency = 0.8097634972074743\n",
      "Batch 6 : F1 = 0.6105797924071288, consistency = 0.8101168437755446\n",
      "Batch 7 : F1 = 0.607506767220549, consistency = 0.8058636524196396\n",
      "Batch 8 : F1 = 0.6095259448680024, consistency = 0.8050346845870366\n",
      "Batch 9 : F1 = 0.6086348147538226, consistency = 0.8052200679763152\n",
      "Batch 10 : F1 = 0.6061863064121384, consistency = 0.805502425029032\n"
     ]
    }
   ],
   "source": [
    "_ = build_bb(\n",
    "    model_name=\"allenai/unifiedqa-v2-t5-base-1251000\",\n",
    "    facts_file=\"./data/silver_facts.json\", \n",
    "    constraints_file=\"./data/constraints_v2.json\",\n",
    "    num_batches=10,\n",
    "    constraint_solving=False,\n",
    "    with_feedback=False,\n",
    "    forward_weight=6, \n",
    "    backward_weight=0.6\n",
    ")\n",
    "\n",
    "del _"
   ]
  }
 ],
 "metadata": {
  "kernelspec": {
   "display_name": "advnlpkernel",
   "language": "python",
   "name": "advnlpkernel"
  },
  "language_info": {
   "codemirror_mode": {
    "name": "ipython",
    "version": 3
   },
   "file_extension": ".py",
   "mimetype": "text/x-python",
   "name": "python",
   "nbconvert_exporter": "python",
   "pygments_lexer": "ipython3",
   "version": "3.8.10"
  },
  "vscode": {
   "interpreter": {
    "hash": "22bb8309d38f1e65544d46771276df01ff94c6adf407f8023f86ac86fc1d49c6"
   }
  }
 },
 "nbformat": 4,
 "nbformat_minor": 4
}
