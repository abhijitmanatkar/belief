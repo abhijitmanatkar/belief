{
 "cells": [
  {
   "cell_type": "markdown",
   "id": "7d34a471-80ac-4e90-a647-9516d346e97f",
   "metadata": {},
   "source": [
    "## Baseline: Macaw without additional context or constraint solving"
   ]
  },
  {
   "cell_type": "code",
   "execution_count": 1,
   "id": "8d5bee49-555a-4f78-a42e-8c87eb3963af",
   "metadata": {},
   "outputs": [],
   "source": [
    "%load_ext autoreload\n",
    "%autoreload 2"
   ]
  },
  {
   "cell_type": "code",
   "execution_count": 3,
   "id": "9fc444d3-7c27-4028-8392-1954e46dbd72",
   "metadata": {},
   "outputs": [],
   "source": [
    "import experiment_setup"
   ]
  },
  {
   "cell_type": "code",
   "execution_count": 15,
   "id": "ca8ffeb4-39b8-4ea6-8a38-30209320947e",
   "metadata": {},
   "outputs": [],
   "source": [
    "from belief.lmbb import LMBB, Proposition, Predicate\n",
    "from belief.evaluation import load_facts\n",
    "import json"
   ]
  },
  {
   "cell_type": "code",
   "execution_count": 12,
   "id": "ef0a8d07-d67b-4814-b303-f3377c4341d4",
   "metadata": {},
   "outputs": [],
   "source": [
    "facts = load_facts('data/calibration_facts.json', num_batches=1)[0]\n",
    "\n",
    "with open('data/constraints_v2.json', 'r') as f:\n",
    "    constraint_data = json.load(f)\n",
    "    \n",
    "with open('cache/raw_outs_calib.json', 'r') as f:\n",
    "    raw_outs = json.load(f)['outs']"
   ]
  },
  {
   "cell_type": "code",
   "execution_count": 27,
   "id": "8bbdeb90-3510-4e97-9af5-eee6a3a8b428",
   "metadata": {},
   "outputs": [],
   "source": [
    "raw_out_beliefs = {}\n",
    "for d in raw_outs:\n",
    "    boolean = max([(d['yes'], True), (d['no'], False)], key=lambda t : t[0])[1]\n",
    "    prop = Proposition.from_sent(d['prop'], boolean=boolean)\n",
    "    raw_out_beliefs[prop.sentence] = prop"
   ]
  },
  {
   "cell_type": "code",
   "execution_count": 28,
   "id": "38df36cf-3eae-4ef6-a4de-b9aabfbc02f0",
   "metadata": {},
   "outputs": [
    {
     "name": "stdout",
     "output_type": "stream",
     "text": [
      "F1: 0.7368421004693112\n",
      "Consistency: 0.9023389413212967\n"
     ]
    }
   ],
   "source": [
    "evaluator = LMBB(\n",
    "    model=None, \n",
    "    tokenizer=None, \n",
    "    raw_constraints=constraint_data['links'],\n",
    ")\n",
    "\n",
    "evaluator.set_beliefs(raw_out_beliefs)\n",
    "print(\"F1:\", evaluator.calculate_f1(facts))\n",
    "print(\"Consistency:\", evaluator.calculate_consistency())"
   ]
  }
 ],
 "metadata": {
  "kernelspec": {
   "display_name": "advnlpkernel",
   "language": "python",
   "name": "advnlpkernel"
  },
  "language_info": {
   "codemirror_mode": {
    "name": "ipython",
    "version": 3
   },
   "file_extension": ".py",
   "mimetype": "text/x-python",
   "name": "python",
   "nbconvert_exporter": "python",
   "pygments_lexer": "ipython3",
   "version": "3.8.10"
  }
 },
 "nbformat": 4,
 "nbformat_minor": 5
}
