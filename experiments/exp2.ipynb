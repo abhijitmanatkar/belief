{
 "cells": [
  {
   "cell_type": "markdown",
   "id": "0df05745-c919-48be-b2c6-178415b53daf",
   "metadata": {},
   "source": [
    "## Experiment 2: Using NLI to obtain constraints between WDIK facts and raw answers, and solving them using Z3 to flip answers if required"
   ]
  },
  {
   "cell_type": "code",
   "execution_count": 1,
   "id": "18cc65d3-b16a-43bf-b694-0ac436654d6d",
   "metadata": {},
   "outputs": [],
   "source": [
    "%load_ext autoreload\n",
    "%autoreload 2"
   ]
  },
  {
   "cell_type": "code",
   "execution_count": 2,
   "id": "74e30c5c-4a42-4a32-b976-e00bbc199532",
   "metadata": {},
   "outputs": [],
   "source": [
    "import experiment_setup"
   ]
  },
  {
   "cell_type": "code",
   "execution_count": 18,
   "id": "1a97af99-c339-45dd-b6a5-15344c1ac21a",
   "metadata": {},
   "outputs": [],
   "source": [
    "from belief.evaluation import load_facts\n",
    "from belief.nli import load_nli_model, load_nli_tokenizer, run_nli\n",
    "from belief.lmbb import Proposition\n",
    "import json\n",
    "import random\n",
    "from z3 import *"
   ]
  },
  {
   "cell_type": "code",
   "execution_count": 7,
   "id": "9b51fe63-a797-4c70-974f-3eedd6c1a65e",
   "metadata": {},
   "outputs": [],
   "source": [
    "facts = load_facts('data/calibration_facts.json', num_batches=1)[0]\n",
    "\n",
    "with open('cache/wdik.json', 'r') as f:\n",
    "    wdik = json.load(f)\n",
    "\n",
    "with open('data/constraints_v2.json', 'r') as f:\n",
    "    constraint_data = json.load(f)\n",
    "    \n",
    "with open('cache/raw_outs_calib.json', 'r') as f:\n",
    "    raw_outs = json.load(f)['outs']"
   ]
  },
  {
   "cell_type": "code",
   "execution_count": 19,
   "id": "dbc2dd2a-02f4-48bd-8333-7d1e81c93f0b",
   "metadata": {},
   "outputs": [],
   "source": [
    "raw_out_beliefs = {}\n",
    "for d in raw_outs:\n",
    "    boolean = max([(d['yes'], True), (d['no'], False)], key=lambda t : t[0])[1]\n",
    "    prop = Proposition.from_sent(d['prop'], boolean=boolean)\n",
    "    raw_out_beliefs[prop.sentence] = prop"
   ]
  },
  {
   "cell_type": "code",
   "execution_count": 11,
   "id": "5b8898e5-9bd1-4691-af2c-11dc2bdb3546",
   "metadata": {},
   "outputs": [],
   "source": [
    "NUM_FACTS = 3"
   ]
  },
  {
   "cell_type": "code",
   "execution_count": 21,
   "id": "29a5c9f9-3604-4a05-b617-0d6d5723ebcb",
   "metadata": {},
   "outputs": [
    {
     "name": "stdout",
     "output_type": "stream",
     "text": [
      "(adder,IsA,vegetable, False, -99999.0)\n",
      "\n",
      "(adder,IsA,vegetable, True, -99999.0)\n",
      "['An adder is a device for adding volume to liquids.', 'An adder has the properties of shape, size, weight.', 'An adder is capable of adding, removing, combining.']\n",
      "\n"
     ]
    }
   ],
   "source": [
    "fact = random.choice(facts)\n",
    "print(fact)\n",
    "print()\n",
    "\n",
    "print(raw_out_beliefs[fact.sentence])\n",
    "\n",
    "wdik_facts = random.sample(wdik[fact.subject], NUM_FACTS)\n",
    "print(wdik_facts)\n",
    "print()\n"
   ]
  }
 ],
 "metadata": {
  "kernelspec": {
   "display_name": "advnlpkernel",
   "language": "python",
   "name": "advnlpkernel"
  },
  "language_info": {
   "codemirror_mode": {
    "name": "ipython",
    "version": 3
   },
   "file_extension": ".py",
   "mimetype": "text/x-python",
   "name": "python",
   "nbconvert_exporter": "python",
   "pygments_lexer": "ipython3",
   "version": "3.8.10"
  }
 },
 "nbformat": 4,
 "nbformat_minor": 5
}
