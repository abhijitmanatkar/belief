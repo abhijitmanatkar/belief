{
 "cells": [
  {
   "cell_type": "markdown",
   "id": "0df05745-c919-48be-b2c6-178415b53daf",
   "metadata": {},
   "source": [
    "\n",
    "## Experiment 2: Using NLI to obtain constraints between WDIK facts and raw answers, and solving them using Z3 to flip answers if required"
   ]
  },
  {
   "cell_type": "code",
   "execution_count": 1,
   "id": "18cc65d3-b16a-43bf-b694-0ac436654d6d",
   "metadata": {},
   "outputs": [],
   "source": [
    "%load_ext autoreload\n",
    "%autoreload 2"
   ]
  },
  {
   "cell_type": "code",
   "execution_count": 3,
   "id": "74e30c5c-4a42-4a32-b976-e00bbc199532",
   "metadata": {},
   "outputs": [],
   "source": [
    "import experiment_setup"
   ]
  },
  {
   "cell_type": "code",
   "execution_count": 4,
   "id": "1a97af99-c339-45dd-b6a5-15344c1ac21a",
   "metadata": {},
   "outputs": [],
   "source": [
    "from belief.evaluation import load_facts\n",
    "from belief.nli import load_nli_model, load_nli_tokenizer, run_nli\n",
    "from belief.lmbb import Proposition, LMBB\n",
    "from tqdm import tqdm\n",
    "import json\n",
    "import random\n",
    "from z3 import *"
   ]
  },
  {
   "cell_type": "code",
   "execution_count": 5,
   "id": "9b51fe63-a797-4c70-974f-3eedd6c1a65e",
   "metadata": {},
   "outputs": [],
   "source": [
    "facts = load_facts('data/calibration_facts.json', num_batches=1)[0]\n",
    "\n",
    "with open('cache/wdik.json', 'r') as f:\n",
    "    wdik = json.load(f)\n",
    "\n",
    "with open('data/constraints_v2.json', 'r') as f:\n",
    "    constraint_data = json.load(f)\n",
    "    \n",
    "with open('cache/raw_outs_calib.json', 'r') as f:\n",
    "    raw_outs = json.load(f)['outs']"
   ]
  },
  {
   "cell_type": "code",
   "execution_count": 6,
   "id": "cf9eff39-a855-4a2c-9a86-3f51dbf9af51",
   "metadata": {},
   "outputs": [],
   "source": [
    "evaluator = LMBB(\n",
    "    model=None, \n",
    "    tokenizer=None, \n",
    "    raw_constraints=constraint_data['links'],\n",
    ")"
   ]
  },
  {
   "cell_type": "code",
   "execution_count": 7,
   "id": "dbc2dd2a-02f4-48bd-8333-7d1e81c93f0b",
   "metadata": {},
   "outputs": [],
   "source": [
    "raw_outs_dict = {}\n",
    "for out in raw_outs:\n",
    "    raw_outs_dict[out['prop']] = {'yes': out['yes'], 'no': out['no']}"
   ]
  },
  {
   "cell_type": "code",
   "execution_count": 9,
   "id": "d1a3a3fb-6c3b-4f3a-b570-1a8fcee6e43b",
   "metadata": {},
   "outputs": [
    {
     "name": "stderr",
     "output_type": "stream",
     "text": [
      "[autoreload of google.protobuf.descriptor failed: Traceback (most recent call last):\n",
      "  File \"/home2/kushal/miniconda3/envs/ID/lib/python3.9/site-packages/IPython/extensions/autoreload.py\", line 261, in check\n",
      "    superreload(m, reload, self.old_objects)\n",
      "  File \"/home2/kushal/miniconda3/envs/ID/lib/python3.9/site-packages/IPython/extensions/autoreload.py\", line 484, in superreload\n",
      "    update_generic(old_obj, new_obj)\n",
      "  File \"/home2/kushal/miniconda3/envs/ID/lib/python3.9/site-packages/IPython/extensions/autoreload.py\", line 381, in update_generic\n",
      "    update(a, b)\n",
      "  File \"/home2/kushal/miniconda3/envs/ID/lib/python3.9/site-packages/IPython/extensions/autoreload.py\", line 349, in update_class\n",
      "    update_instances(old, new)\n",
      "  File \"/home2/kushal/miniconda3/envs/ID/lib/python3.9/site-packages/IPython/extensions/autoreload.py\", line 307, in update_instances\n",
      "    object.__setattr__(ref, \"__class__\", new)\n",
      "TypeError: can't apply this __setattr__ to DescriptorMetaclass object\n",
      "]\n",
      "/home2/kushal/miniconda3/envs/ID/lib/python3.9/site-packages/transformers/convert_slow_tokenizer.py:446: UserWarning: The sentencepiece tokenizer that you are converting to a fast tokenizer uses the byte fallback option which is not implemented in the fast tokenizers. In practice this means that the fast version of the tokenizer can produce unknown tokens whereas the sentencepiece version would have converted these unknown tokens into a sequence of byte tokens matching the original piece of text.\n",
      "  warnings.warn(\n"
     ]
    }
   ],
   "source": [
    "nli_model = load_nli_model()\n",
    "nli_tokenizer = load_nli_tokenizer()"
   ]
  },
  {
   "cell_type": "code",
   "execution_count": 10,
   "id": "595338e4-a73b-48ec-b13e-6de0509ae08c",
   "metadata": {},
   "outputs": [],
   "source": [
    "z3mult = 1000\n",
    "wdik_weight = 1.5\n",
    "NUM_FACTS = 3"
   ]
  },
  {
   "cell_type": "code",
   "execution_count": 11,
   "id": "2216011f-c6c9-4700-b033-7165d5213fdd",
   "metadata": {},
   "outputs": [
    {
     "name": "stderr",
     "output_type": "stream",
     "text": [
      "100%|███████████████████████████████████████| 1072/1072 [02:15<00:00,  7.93it/s]\n"
     ]
    }
   ],
   "source": [
    "new_beliefs = {}\n",
    "\n",
    "for prop in tqdm(facts):\n",
    "    sent = prop.sentence\n",
    "    raw_out = raw_outs_dict[sent]\n",
    "    subject = prop.subject\n",
    "    if NUM_FACTS > 0:\n",
    "        wdik_facts = random.sample(wdik[subject], NUM_FACTS)\n",
    "    else:\n",
    "        wdik_facts = wdik[subject]\n",
    "    \n",
    "    bools = {}\n",
    "    optim = Optimize()\n",
    "\n",
    "    bools[sent] = Bool(sent)\n",
    "    optim.add_soft(bools[sent], int(raw_out['yes'] * z3mult))\n",
    "    optim.add_soft(Not(bools[sent]), int(raw_out['no'] * z3mult))\n",
    "\n",
    "    assertion = prop.get_assertion()\n",
    "    \n",
    "    for wik in wdik_facts:\n",
    "        bools[wik] = Bool(wik)\n",
    "        optim.add_soft(bools[wik], wdik_weight * z3mult)\n",
    "\n",
    "        # wik -> fact\n",
    "        nli_out = run_nli(premise=wik, hypothesis=assertion, model=nli_model, tokenizer=nli_tokenizer)\n",
    "        optim.add_soft(Implies(bools[wik], bools[sent]), int(nli_out['entailment'] * z3mult))\n",
    "        optim.add_soft(Not(Implies(bools[wik], bools[sent])), int(nli_out['contradiction'] * z3mult))\n",
    "\n",
    "        # fact -> wik\n",
    "        nli_out = run_nli(premise=assertion, hypothesis=wik, model=nli_model, tokenizer=nli_tokenizer)\n",
    "        optim.add_soft(Implies(bools[sent], bools[wik]), int(nli_out['entailment'] * z3mult))\n",
    "        optim.add_soft(Not(Implies(bools[sent], bools[wik])), int(nli_out['contradiction'] * z3mult))\n",
    "\n",
    "    optim.check()\n",
    "    mod = optim.model()\n",
    "    \n",
    "    new_beliefs[sent] = Proposition.from_sent(sent, boolean=bool(mod.evaluate(bools[sent])))"
   ]
  },
  {
   "cell_type": "code",
   "execution_count": 12,
   "id": "7bc05d2f-622f-44c3-b30e-a5117830a4db",
   "metadata": {},
   "outputs": [
    {
     "name": "stdout",
     "output_type": "stream",
     "text": [
      "F1: 0.862876249181329\n",
      "Consistency: 0.980098481739844\n"
     ]
    }
   ],
   "source": [
    "evaluator.set_beliefs(new_beliefs)\n",
    "print(\"F1:\", evaluator.calculate_f1(facts))\n",
    "print(\"Consistency:\", evaluator.calculate_consistency())"
   ]
  },
  {
   "cell_type": "code",
   "execution_count": null,
   "id": "b7c3dbdd-643e-45a1-9166-2b45af72f103",
   "metadata": {},
   "outputs": [],
   "source": []
  }
 ],
 "metadata": {
  "kernelspec": {
   "display_name": "Python 3 (ipykernel)",
   "language": "python",
   "name": "python3"
  },
  "language_info": {
   "codemirror_mode": {
    "name": "ipython",
    "version": 3
   },
   "file_extension": ".py",
   "mimetype": "text/x-python",
   "name": "python",
   "nbconvert_exporter": "python",
   "pygments_lexer": "ipython3",
   "version": "3.9.13"
  }
 },
 "nbformat": 4,
 "nbformat_minor": 5
}
