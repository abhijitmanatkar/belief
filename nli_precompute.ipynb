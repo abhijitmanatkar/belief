{
 "cells": [
  {
   "cell_type": "code",
   "execution_count": 1,
   "id": "e2b713b8-bac5-42cc-a680-c4d50bc6aa7d",
   "metadata": {},
   "outputs": [],
   "source": [
    "%load_ext autoreload\n",
    "%autoreload 2"
   ]
  },
  {
   "cell_type": "code",
   "execution_count": 11,
   "id": "bcf483e2-4e5c-49d0-ad24-79f186e703ad",
   "metadata": {},
   "outputs": [],
   "source": [
    "from belief.nli import load_nli_model, load_nli_tokenizer, pairwise_nli_precompute\n",
    "from belief.evaluation import load_facts\n",
    "from collections import defaultdict\n",
    "import torch\n",
    "import json"
   ]
  },
  {
   "cell_type": "code",
   "execution_count": 2,
   "id": "07a5d328-a7a2-44c4-a925-8438cd14ea3a",
   "metadata": {},
   "outputs": [
    {
     "name": "stderr",
     "output_type": "stream",
     "text": [
      "/home2/abhijit.manatkar/miniconda3/envs/advnlp/lib/python3.8/site-packages/transformers/convert_slow_tokenizer.py:454: UserWarning: The sentencepiece tokenizer that you are converting to a fast tokenizer uses the byte fallback option which is not implemented in the fast tokenizers. In practice this means that the fast version of the tokenizer can produce unknown tokens whereas the sentencepiece version would have converted these unknown tokens into a sequence of byte tokens matching the original piece of text.\n",
      "  warnings.warn(\n"
     ]
    }
   ],
   "source": [
    "model = load_nli_model()\n",
    "tokenizer = load_nli_tokenizer()"
   ]
  },
  {
   "cell_type": "code",
   "execution_count": 3,
   "id": "60f06748-c06e-4176-b506-e8fb952c6b8d",
   "metadata": {},
   "outputs": [],
   "source": [
    "facts = load_facts('data/calibration_facts.json', num_batches=1)[0]\n",
    "facts_by_entity = defaultdict(list)\n",
    "for fact in facts:\n",
    "    facts_by_entity[fact.subject].append(fact)"
   ]
  },
  {
   "cell_type": "code",
   "execution_count": 4,
   "id": "ed16ec5a-654d-4e2c-b3c7-2fadaad50f92",
   "metadata": {},
   "outputs": [
    {
     "name": "stderr",
     "output_type": "stream",
     "text": [
      "21609it [00:42, 507.88it/s]                                                     \n",
      "35721it [00:59, 597.13it/s]                                                     \n",
      "18225it [00:32, 560.52it/s]                                                     \n",
      "26569it [00:45, 579.37it/s]                                                     \n",
      "20449it [00:35, 579.99it/s]                                                     \n",
      "24336it [00:46, 528.69it/s]                                                     \n",
      "19321it [00:35, 543.95it/s]                                                     \n"
     ]
    }
   ],
   "source": [
    "outs = []\n",
    "\n",
    "chunk_size = 100\n",
    "\n",
    "for entity in facts_by_entity:\n",
    "    outs += pairwise_nli_precompute(facts_by_entity[entity], model, tokenizer, chunk_size)"
   ]
  },
  {
   "cell_type": "code",
   "execution_count": 7,
   "id": "88daac8e-3a54-4115-8a08-c3b5c03c7cb8",
   "metadata": {},
   "outputs": [],
   "source": [
    "outs_dict = {}\n",
    "\n",
    "for out in outs:\n",
    "    src, dest, scores = out\n",
    "    if src not in outs_dict:\n",
    "        outs_dict[src] = {}\n",
    "    outs_dict[src][dest] = scores"
   ]
  },
  {
   "cell_type": "code",
   "execution_count": 12,
   "id": "eb10ab0e-def2-47d3-8206-ffe9895781b9",
   "metadata": {},
   "outputs": [],
   "source": [
    "with open('cache/nli_constraints.json', 'w') as f:\n",
    "    json.dump(outs_dict, f)"
   ]
  }
 ],
 "metadata": {
  "kernelspec": {
   "display_name": "advnlpkernel",
   "language": "python",
   "name": "advnlpkernel"
  },
  "language_info": {
   "codemirror_mode": {
    "name": "ipython",
    "version": 3
   },
   "file_extension": ".py",
   "mimetype": "text/x-python",
   "name": "python",
   "nbconvert_exporter": "python",
   "pygments_lexer": "ipython3",
   "version": "3.8.10"
  }
 },
 "nbformat": 4,
 "nbformat_minor": 5
}
