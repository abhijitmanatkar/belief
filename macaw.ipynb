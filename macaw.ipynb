{
 "cells": [
  {
   "cell_type": "code",
   "execution_count": 23,
   "id": "a7a982bf-1452-4ee2-b270-fa78dc6d90da",
   "metadata": {},
   "outputs": [],
   "source": [
    "import torch\n",
    "from transformers import AutoTokenizer, AutoModelForSeq2SeqLM\n",
    "from belief.evaluation import load_facts\n",
    "import random\n",
    "import string"
   ]
  },
  {
   "cell_type": "code",
   "execution_count": 3,
   "id": "711887c2-310c-4ad7-b5ac-73ce831deaa9",
   "metadata": {},
   "outputs": [],
   "source": [
    "device = torch.device(\"cuda\") if torch.cuda.is_available() else torch.device(\"cpu\")"
   ]
  },
  {
   "cell_type": "code",
   "execution_count": 5,
   "id": "257aba14-3c9b-448d-bca3-046e05ac5b72",
   "metadata": {},
   "outputs": [
    {
     "name": "stderr",
     "output_type": "stream",
     "text": [
      "Overriding torch_dtype=None with `torch_dtype=torch.float16` due to requirements of `bitsandbytes` to enable model loading in mixed int8. Either pass torch_dtype=torch.float16 or don't pass this argument at all to remove this warning.\n"
     ]
    }
   ],
   "source": [
    "tokenizer = AutoTokenizer.from_pretrained(\"allenai/macaw-large\")\n",
    "model = AutoModelForSeq2SeqLM.from_pretrained(\"allenai/macaw-large\", load_in_8bit=True, device_map='auto')"
   ]
  },
  {
   "cell_type": "code",
   "execution_count": 96,
   "id": "4fe7b816-c6bf-46d8-89ed-499b8bb61610",
   "metadata": {},
   "outputs": [],
   "source": [
    "torch.cuda.empty_cache()"
   ]
  },
  {
   "cell_type": "code",
   "execution_count": 8,
   "id": "5a8f1ad7-1c15-4387-8291-2bfae37f1282",
   "metadata": {},
   "outputs": [],
   "source": [
    "facts = load_facts('./data/calibration_facts.json', num_batches=1)[0]"
   ]
  },
  {
   "cell_type": "code",
   "execution_count": 84,
   "id": "f76a1f50-cf00-4128-b3de-2a4fac4162ff",
   "metadata": {},
   "outputs": [],
   "source": [
    "def macaw_input(question=\"\", answer=\"\", options=(), explanation=\"\", context=\"\", targets='AE'):\n",
    "    \n",
    "    if len(question) > 0:\n",
    "        question_str = '$question$ = ' + question  + \" ; \"\n",
    "    elif 'Q' in targets:\n",
    "        question_str = \"$question$ ; \"\n",
    "    \n",
    "    if len(explanation) > 0:\n",
    "        explanation_str = \"$explanation$ = \" + explanation + \" ; \"\n",
    "    elif 'E' in targets:\n",
    "        explanation_str = \"$explanation$ ; \"\n",
    "    else:\n",
    "        explanation_str = \"\"\n",
    "    \n",
    "    if len(answer) > 0:\n",
    "        answer_str = \"$answer$ = \" + explanation + \" ; \"\n",
    "    elif 'A' in targets:\n",
    "        answer_str = \"$answer$ ; \"\n",
    "    else:\n",
    "        answer_str = \"\"\n",
    "    \n",
    "    if len(context) > 0:\n",
    "        context_str = \"$context$ = \" + context\n",
    "    else:\n",
    "        context_str = \"\"\n",
    "    \n",
    "    letters = list(string.ascii_uppercase)\n",
    "    if len(options) > 0:\n",
    "        option_str = \"$mcoptions$ = \"\n",
    "        for letter, option in zip(letters, options):\n",
    "            option_str += f\"({letter}) {option} \"\n",
    "        option_str += \"; \"\n",
    "    elif 'M' in targets:\n",
    "        option_str = \"$mcoptions$ ; \"\n",
    "    else:\n",
    "        option_str = \"\"\n",
    "    \n",
    "    return f\"{question_str}{explanation_str}{option_str}{answer_str}{context_str}\""
   ]
  },
  {
   "cell_type": "code",
   "execution_count": 90,
   "id": "0caa2af2-5466-466f-a33c-3244f7fe3f40",
   "metadata": {},
   "outputs": [
    {
     "data": {
      "text/plain": [
       "(ant,IsA,house, False, -99999.0)"
      ]
     },
     "execution_count": 90,
     "metadata": {},
     "output_type": "execute_result"
    }
   ],
   "source": [
    "fact = random.choice(facts)\n",
    "fact"
   ]
  },
  {
   "cell_type": "code",
   "execution_count": 94,
   "id": "9be5612e-e9fc-4d92-9233-4675347e2523",
   "metadata": {},
   "outputs": [
    {
     "name": "stdout",
     "output_type": "stream",
     "text": [
      "$question$ = What is an ant capable of? ; $explanation$ ; $answer$ ; \n"
     ]
    }
   ],
   "source": [
    "inpstr = macaw_input(targets='AE', question='What is an ant capable of?')\n",
    "print(inpstr)"
   ]
  },
  {
   "cell_type": "code",
   "execution_count": 95,
   "id": "c15402c1-70c4-4af9-ba0c-04ab48100811",
   "metadata": {},
   "outputs": [
    {
     "data": {
      "text/plain": [
       "['$explanation$ = An insect can perform photosynthesis. Photosynthesis is a source of food for the plant by converting carbon dioxide, water, and sunlight into carbohydrates. ; $answer$ = absorbing light']"
      ]
     },
     "execution_count": 95,
     "metadata": {},
     "output_type": "execute_result"
    }
   ],
   "source": [
    "inpids = tokenizer.encode(inpstr, return_tensors=\"pt\").to(device)\n",
    "output = model.generate(inpids, max_length=500)\n",
    "tokenizer.batch_decode(output, skip_special_tokens=True)"
   ]
  }
 ],
 "metadata": {
  "kernelspec": {
   "display_name": "advnlpkernel",
   "language": "python",
   "name": "advnlpkernel"
  },
  "language_info": {
   "codemirror_mode": {
    "name": "ipython",
    "version": 3
   },
   "file_extension": ".py",
   "mimetype": "text/x-python",
   "name": "python",
   "nbconvert_exporter": "python",
   "pygments_lexer": "ipython3",
   "version": "3.8.10"
  }
 },
 "nbformat": 4,
 "nbformat_minor": 5
}
